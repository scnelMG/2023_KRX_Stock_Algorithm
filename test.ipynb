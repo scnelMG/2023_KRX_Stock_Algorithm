{
 "cells": [
  {
   "cell_type": "code",
   "execution_count": null,
   "metadata": {},
   "outputs": [],
   "source": [
    "import pandas as pd\n",
    "df = pd.read_csv('./data/sample_submission.csv')"
   ]
  },
  {
   "cell_type": "code",
   "execution_count": null,
   "metadata": {},
   "outputs": [],
   "source": [
    "# 1~2000까지 랜덤으로 들어가있는 열 생성\n",
    "import random\n",
    "df['target'] = random.sample(range(1, 2001), 2000)\n"
   ]
  }
 ],
 "metadata": {
  "kernelspec": {
   "display_name": "py_397",
   "language": "python",
   "name": "py_397"
  },
  "language_info": {
   "name": "python",
   "version": "3.9.7"
  },
  "orig_nbformat": 4
 },
 "nbformat": 4,
 "nbformat_minor": 2
}
